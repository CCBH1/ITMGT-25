{
 "cells": [
  {
   "cell_type": "markdown",
   "id": "da936fd5-1275-46b6-a9bd-37a8fe3f1e29",
   "metadata": {},
   "source": [
    "# **Codes With Charts/Graphs/Tables**"
   ]
  },
  {
   "cell_type": "markdown",
   "id": "0dc1648a-9cd5-4913-97be-068cfe7d146f",
   "metadata": {},
   "source": [
    "### **Accessing Data**"
   ]
  },
  {
   "cell_type": "code",
   "execution_count": 1,
   "id": "a0daadb8-e6e4-45a6-8c62-5a775d37c940",
   "metadata": {},
   "outputs": [],
   "source": [
    "#import packages\n",
    "\n",
    "import pandas as pd\n",
    "import numpy as np\n",
    "import matplotlib.pyplot as plt\n",
    "\n",
    "%matplotlib inline"
   ]
  },
  {
   "cell_type": "code",
   "execution_count": 2,
   "id": "8b6be6e1-4745-4c46-8877-ac07ed1e6007",
   "metadata": {},
   "outputs": [],
   "source": [
    "#reading transaction-data-adhoc-analysis file\n",
    "\n",
    "df = pd.read_json(\"transaction-data-adhoc-analysis.json\")"
   ]
  },
  {
   "cell_type": "markdown",
   "id": "1b4fa468-da1b-4731-b425-ac73a60f1d62",
   "metadata": {},
   "source": [
    "### **Price DataFrame: Getting Price Per Item**"
   ]
  },
  {
   "cell_type": "code",
   "execution_count": 3,
   "id": "e0ed500d-a630-4148-bcd8-903aa7b6960b",
   "metadata": {},
   "outputs": [],
   "source": [
    "#getting transaction_date, transaction_items, and transaction_value columns from original dataframe\n",
    "single_item_transaction_list = pd.DataFrame().assign(Month=df[\"transaction_date\"], Items=df['transaction_items'], Sale=df['transaction_value'])\n",
    "\n",
    "#only keeping entries with 1 kind of purchased item (i.e., transaction has no semicolon)\n",
    "single_item_transaction_list = single_item_transaction_list[~single_item_transaction_list[\"Items\"].str.contains(\";\")]\n",
    "\n",
    "#date into year-month\n",
    "single_item_transaction_list['Month'] = pd.DatetimeIndex(single_item_transaction_list['Month'])\n",
    "single_item_transaction_list['Month'] = single_item_transaction_list['Month'].dt.to_period('M')\n",
    "\n",
    "#splitting transaction_items into separate columns and putting two columns together\n",
    "single_item_transaction_list[[\"Brand\", \"Item\", \"Quantity\"]] = single_item_transaction_list[\"Items\"].str.split(\",\", expand=True)\n",
    "single_item_transaction_list[\"Product\"] = single_item_transaction_list[\"Brand\"] + \" | \" + single_item_transaction_list[\"Item\"]\n",
    "single_item_transaction_list.drop(columns = [\"Items\", \"Brand\", \"Item\"], inplace=True)\n",
    "\n",
    "#removing parenthesis and x from quantity column and converting quantity column into int\n",
    "single_item_transaction_list[\"Quantity\"].replace('(\\D)','',inplace=True, regex=True)\n",
    "single_item_transaction_list[\"Quantity\"] = single_item_transaction_list[\"Quantity\"].astype(int)\n",
    "\n",
    "#dividing transaction value by quantity to get item price\n",
    "single_item_transaction_list[\"Item Price\"] = single_item_transaction_list[\"Sale\"]//single_item_transaction_list[\"Quantity\"]\n",
    "\n",
    "#keeping only product and item price\n",
    "price_list = single_item_transaction_list[[\"Product\", \"Item Price\"]]\n",
    "\n",
    "#drop duplicates so there is only one copy of each item and price\n",
    "price_list = price_list.drop_duplicates()"
   ]
  },
  {
   "cell_type": "markdown",
   "id": "9a0bab1c-bb60-4bc4-b270-379f15c53e3b",
   "metadata": {},
   "source": [
    "### **Transactions DataFrame: Cleaning Data and Adding Months**"
   ]
  },
  {
   "cell_type": "code",
   "execution_count": 4,
   "id": "35f79081-5876-4299-8343-d6682911eb22",
   "metadata": {},
   "outputs": [],
   "source": [
    "#getting transaction_date and transaction_items columns from original dataframe\n",
    "transaction_list = pd.DataFrame().assign(Month=df[\"transaction_date\"], Items=df['transaction_items'])\n",
    "\n",
    "#date into year-month\n",
    "transaction_list['Month'] = pd.DatetimeIndex(transaction_list['Month'])\n",
    "transaction_list['Month'] = transaction_list['Month'].dt.to_period('M')\n",
    "\n",
    "#splitting data entries with ; into separate entries\n",
    "transaction_list[\"Items\"] = transaction_list[\"Items\"].str.split(\";\").fillna(transaction_list[\"Items\"])\n",
    "transaction_list = transaction_list.explode(\"Items\", ignore_index=True)\n",
    "\n",
    "#splitting transaction_items into separate columns and putting two columns together\n",
    "transaction_list[[\"Brand\", \"Item\", \"Quantity\"]] = transaction_list[\"Items\"].str.split(\",\", expand=True)\n",
    "transaction_list[\"Product\"] = transaction_list[\"Brand\"] + \" | \" + transaction_list[\"Item\"]\n",
    "transaction_list.drop(columns = [\"Items\", \"Brand\", \"Item\"], inplace=True)\n",
    "\n",
    "#removing parenthesis and x from quantity column and converting quantity column into int\n",
    "transaction_list[\"Quantity\"].replace('(\\D)','',inplace=True, regex=True)\n",
    "transaction_list[\"Quantity\"] = transaction_list[\"Quantity\"].astype(int)\n",
    "\n",
    "#putting 2 dataframes together based on common column\n",
    "transaction_list = pd.merge(transaction_list, price_list, on =\"Product\")\n",
    "\n",
    "#getting sales value per transaction\n",
    "transaction_list[\"Sales Value\"] = transaction_list[\"Quantity\"] * transaction_list[\"Item Price\"]"
   ]
  },
  {
   "cell_type": "markdown",
   "id": "430b9e63-3a27-4b18-8a6e-f1714a5f7753",
   "metadata": {},
   "source": [
    "### **Customer DataFrame**"
   ]
  },
  {
   "cell_type": "code",
   "execution_count": 5,
   "id": "fdca9bcf-7710-4823-bf03-e1620f284db9",
   "metadata": {},
   "outputs": [],
   "source": [
    "#getting name, email, birthdate, and gender columns from original dataframe\n",
    "customer_list = pd.DataFrame().assign(Name=df[\"name\"], \n",
    "                                      Email=df['mail'], \n",
    "                                      Birthdate=df['birthdate'], \n",
    "                                      Gender=df['sex'])\n",
    "\n",
    "#birthdate column dtype into date dtype\n",
    "customer_list['Birthdate'] = pd.DatetimeIndex(customer_list['Birthdate'])\n",
    "\n",
    "#drop duplicates to only keep one copy of customer information per customer\n",
    "customer_list = customer_list.drop_duplicates()"
   ]
  },
  {
   "cell_type": "markdown",
   "id": "30684406-365e-455d-8816-a0bbb3764221",
   "metadata": {
    "tags": []
   },
   "source": [
    "### **Customer Activity DataFrame**"
   ]
  },
  {
   "cell_type": "code",
   "execution_count": 6,
   "id": "f037aa3d-d3f2-4f08-a849-557f26035940",
   "metadata": {},
   "outputs": [],
   "source": [
    "#getting transaction_date and email columns from original dataframe\n",
    "customer_activity_list = pd.DataFrame().assign(Month=df[\"transaction_date\"], Email=df['mail'])\n",
    "\n",
    "#date into year-month\n",
    "customer_activity_list['Month'] = pd.DatetimeIndex(customer_activity_list['Month'])\n",
    "customer_activity_list['Month'] = customer_activity_list['Month'].dt.to_period('M')\n",
    "\n",
    "#drop duplicates to keep information on whether customer had at least one purchase for that month (since some customers have multiple purchases in a given month)\n",
    "customer_activity_list = customer_activity_list.drop_duplicates()"
   ]
  },
  {
   "cell_type": "markdown",
   "id": "a93e4ee5-6ffb-415d-aa5c-9a6719a71745",
   "metadata": {
    "tags": []
   },
   "source": [
    "### **Total Number of Items Sold**"
   ]
  },
  {
   "cell_type": "code",
   "execution_count": 7,
   "id": "36f96ea2-8823-47b4-b817-595929361438",
   "metadata": {},
   "outputs": [
    {
     "data": {
      "text/plain": [
       "415150"
      ]
     },
     "execution_count": 7,
     "metadata": {},
     "output_type": "execute_result"
    }
   ],
   "source": [
    "Total_Quantity = transaction_list[\"Quantity\"].sum()\n",
    "\n",
    "Total_Quantity"
   ]
  },
  {
   "cell_type": "markdown",
   "id": "629ff4f4-fff9-4a57-b60d-319701b27ff7",
   "metadata": {
    "tags": []
   },
   "source": [
    "### **Total Sale Value**"
   ]
  },
  {
   "cell_type": "code",
   "execution_count": 8,
   "id": "d0d2d6c9-5de5-4e15-b195-dad20529856b",
   "metadata": {},
   "outputs": [
    {
     "data": {
      "text/plain": [
       "381152772"
      ]
     },
     "execution_count": 8,
     "metadata": {},
     "output_type": "execute_result"
    }
   ],
   "source": [
    "Total_Sales = transaction_list[\"Sales Value\"].sum()\n",
    "\n",
    "Total_Sales"
   ]
  },
  {
   "cell_type": "markdown",
   "id": "012fdd2f-ac60-4784-a906-0a912dcd3f5b",
   "metadata": {},
   "source": [
    "### **Number of Items Sold Per Item**"
   ]
  },
  {
   "cell_type": "code",
   "execution_count": 9,
   "id": "3c6427a3-c507-4fbe-bb3a-072511836e46",
   "metadata": {},
   "outputs": [
    {
     "data": {
      "text/plain": [
       "Product\n",
       "Candy City | Gummy Worms              59319\n",
       "Candy City | Orange Beans             59406\n",
       "Exotic Extras | Beef Chicharon        59302\n",
       "Exotic Extras | Kimchi and Seaweed    59390\n",
       "HealthyKid 3+ | Gummy Vitamins        59576\n",
       "HealthyKid 3+ | Nutrional Milk        58728\n",
       "HealthyKid 3+ | Yummy Vegetables      59429\n",
       "Name: Quantity, dtype: int32"
      ]
     },
     "execution_count": 9,
     "metadata": {},
     "output_type": "execute_result"
    }
   ],
   "source": [
    "nispm = transaction_list.groupby([\"Product\"])[\"Quantity\"].sum()\n",
    "\n",
    "nispm"
   ]
  },
  {
   "cell_type": "markdown",
   "id": "a3cfae46-d1d5-497b-bce4-089cfd0e447a",
   "metadata": {},
   "source": [
    "### **Total Sale Per Item**"
   ]
  },
  {
   "cell_type": "code",
   "execution_count": 10,
   "id": "7484a400-a1d4-4b19-988c-817cb5c3b216",
   "metadata": {},
   "outputs": [
    {
     "data": {
      "text/plain": [
       "Product\n",
       "Candy City | Gummy Worms                8897850\n",
       "Candy City | Orange Beans              11821794\n",
       "Exotic Extras | Beef Chicharon         77033298\n",
       "Exotic Extras | Kimchi and Seaweed     47452610\n",
       "HealthyKid 3+ | Gummy Vitamins         89364000\n",
       "HealthyKid 3+ | Nutrional Milk        116868720\n",
       "HealthyKid 3+ | Yummy Vegetables       29714500\n",
       "Name: Sales Value, dtype: int64"
      ]
     },
     "execution_count": 10,
     "metadata": {},
     "output_type": "execute_result"
    }
   ],
   "source": [
    "tspm = transaction_list.groupby([\"Product\"])[\"Sales Value\"].sum()\n",
    "\n",
    "tspm"
   ]
  },
  {
   "cell_type": "markdown",
   "id": "df88911f-b4b4-4cdd-bee5-3aec9867019b",
   "metadata": {},
   "source": [
    "## **Charts/Graphs/Tables**"
   ]
  },
  {
   "cell_type": "markdown",
   "id": "b8de711f-75af-46b2-9ac8-94886baff5cd",
   "metadata": {},
   "source": [
    "### **Count of Each Item Sold Per Month**"
   ]
  },
  {
   "cell_type": "code",
   "execution_count": 11,
   "id": "60c38af4-5bfb-4c64-9f6c-eaf137d1034d",
   "metadata": {},
   "outputs": [
    {
     "data": {
      "text/html": [
       "<div>\n",
       "<style scoped>\n",
       "    .dataframe tbody tr th:only-of-type {\n",
       "        vertical-align: middle;\n",
       "    }\n",
       "\n",
       "    .dataframe tbody tr th {\n",
       "        vertical-align: top;\n",
       "    }\n",
       "\n",
       "    .dataframe thead tr th {\n",
       "        text-align: left;\n",
       "    }\n",
       "\n",
       "    .dataframe thead tr:last-of-type th {\n",
       "        text-align: right;\n",
       "    }\n",
       "</style>\n",
       "<table border=\"1\" class=\"dataframe\">\n",
       "  <thead>\n",
       "    <tr>\n",
       "      <th></th>\n",
       "      <th colspan=\"6\" halign=\"left\">Quantity</th>\n",
       "    </tr>\n",
       "    <tr>\n",
       "      <th>Month</th>\n",
       "      <th>2022-01</th>\n",
       "      <th>2022-02</th>\n",
       "      <th>2022-03</th>\n",
       "      <th>2022-04</th>\n",
       "      <th>2022-05</th>\n",
       "      <th>2022-06</th>\n",
       "    </tr>\n",
       "    <tr>\n",
       "      <th>Product</th>\n",
       "      <th></th>\n",
       "      <th></th>\n",
       "      <th></th>\n",
       "      <th></th>\n",
       "      <th></th>\n",
       "      <th></th>\n",
       "    </tr>\n",
       "  </thead>\n",
       "  <tbody>\n",
       "    <tr>\n",
       "      <th>Candy City | Gummy Worms</th>\n",
       "      <td>9559</td>\n",
       "      <td>9996</td>\n",
       "      <td>9986</td>\n",
       "      <td>10043</td>\n",
       "      <td>9801</td>\n",
       "      <td>9934</td>\n",
       "    </tr>\n",
       "    <tr>\n",
       "      <th>Candy City | Orange Beans</th>\n",
       "      <td>9774</td>\n",
       "      <td>10037</td>\n",
       "      <td>9611</td>\n",
       "      <td>9914</td>\n",
       "      <td>9964</td>\n",
       "      <td>10106</td>\n",
       "    </tr>\n",
       "    <tr>\n",
       "      <th>Exotic Extras | Beef Chicharon</th>\n",
       "      <td>9665</td>\n",
       "      <td>10001</td>\n",
       "      <td>9816</td>\n",
       "      <td>9890</td>\n",
       "      <td>10028</td>\n",
       "      <td>9902</td>\n",
       "    </tr>\n",
       "    <tr>\n",
       "      <th>Exotic Extras | Kimchi and Seaweed</th>\n",
       "      <td>9676</td>\n",
       "      <td>9949</td>\n",
       "      <td>9967</td>\n",
       "      <td>9921</td>\n",
       "      <td>9773</td>\n",
       "      <td>10104</td>\n",
       "    </tr>\n",
       "    <tr>\n",
       "      <th>HealthyKid 3+ | Gummy Vitamins</th>\n",
       "      <td>9681</td>\n",
       "      <td>9980</td>\n",
       "      <td>10145</td>\n",
       "      <td>9842</td>\n",
       "      <td>9948</td>\n",
       "      <td>9980</td>\n",
       "    </tr>\n",
       "    <tr>\n",
       "      <th>HealthyKid 3+ | Nutrional Milk</th>\n",
       "      <td>9727</td>\n",
       "      <td>9691</td>\n",
       "      <td>9876</td>\n",
       "      <td>9786</td>\n",
       "      <td>9881</td>\n",
       "      <td>9767</td>\n",
       "    </tr>\n",
       "    <tr>\n",
       "      <th>HealthyKid 3+ | Yummy Vegetables</th>\n",
       "      <td>9959</td>\n",
       "      <td>10256</td>\n",
       "      <td>9896</td>\n",
       "      <td>9861</td>\n",
       "      <td>9735</td>\n",
       "      <td>9722</td>\n",
       "    </tr>\n",
       "  </tbody>\n",
       "</table>\n",
       "</div>"
      ],
      "text/plain": [
       "                                   Quantity                                  \\\n",
       "Month                               2022-01 2022-02 2022-03 2022-04 2022-05   \n",
       "Product                                                                       \n",
       "Candy City | Gummy Worms               9559    9996    9986   10043    9801   \n",
       "Candy City | Orange Beans              9774   10037    9611    9914    9964   \n",
       "Exotic Extras | Beef Chicharon         9665   10001    9816    9890   10028   \n",
       "Exotic Extras | Kimchi and Seaweed     9676    9949    9967    9921    9773   \n",
       "HealthyKid 3+ | Gummy Vitamins         9681    9980   10145    9842    9948   \n",
       "HealthyKid 3+ | Nutrional Milk         9727    9691    9876    9786    9881   \n",
       "HealthyKid 3+ | Yummy Vegetables       9959   10256    9896    9861    9735   \n",
       "\n",
       "                                            \n",
       "Month                              2022-06  \n",
       "Product                                     \n",
       "Candy City | Gummy Worms              9934  \n",
       "Candy City | Orange Beans            10106  \n",
       "Exotic Extras | Beef Chicharon        9902  \n",
       "Exotic Extras | Kimchi and Seaweed   10104  \n",
       "HealthyKid 3+ | Gummy Vitamins        9980  \n",
       "HealthyKid 3+ | Nutrional Milk        9767  \n",
       "HealthyKid 3+ | Yummy Vegetables      9722  "
      ]
     },
     "execution_count": 11,
     "metadata": {},
     "output_type": "execute_result"
    }
   ],
   "source": [
    "each_item_sold_per_month = transaction_list.groupby([\"Month\", \"Product\"])[\"Quantity\"].sum()\n",
    "each_item_sold_per_month = each_item_sold_per_month.reset_index()\n",
    "ceispm = each_item_sold_per_month.pivot_table(values = [\"Quantity\"], index = \"Product\", columns = \"Month\")\n",
    "\n",
    "ceispm"
   ]
  },
  {
   "cell_type": "markdown",
   "id": "bea5f284-49c1-4def-93ea-9c8ba1bfa69f",
   "metadata": {},
   "source": [
    "### **Total Sale Value Per Item Per Month**"
   ]
  },
  {
   "cell_type": "code",
   "execution_count": 12,
   "id": "0d447b74-273e-4a4f-9a5f-d6eca9e26c9e",
   "metadata": {},
   "outputs": [
    {
     "data": {
      "text/html": [
       "<div>\n",
       "<style scoped>\n",
       "    .dataframe tbody tr th:only-of-type {\n",
       "        vertical-align: middle;\n",
       "    }\n",
       "\n",
       "    .dataframe tbody tr th {\n",
       "        vertical-align: top;\n",
       "    }\n",
       "\n",
       "    .dataframe thead tr th {\n",
       "        text-align: left;\n",
       "    }\n",
       "\n",
       "    .dataframe thead tr:last-of-type th {\n",
       "        text-align: right;\n",
       "    }\n",
       "</style>\n",
       "<table border=\"1\" class=\"dataframe\">\n",
       "  <thead>\n",
       "    <tr>\n",
       "      <th></th>\n",
       "      <th colspan=\"6\" halign=\"left\">Sales Value</th>\n",
       "    </tr>\n",
       "    <tr>\n",
       "      <th>Month</th>\n",
       "      <th>2022-01</th>\n",
       "      <th>2022-02</th>\n",
       "      <th>2022-03</th>\n",
       "      <th>2022-04</th>\n",
       "      <th>2022-05</th>\n",
       "      <th>2022-06</th>\n",
       "    </tr>\n",
       "    <tr>\n",
       "      <th>Product</th>\n",
       "      <th></th>\n",
       "      <th></th>\n",
       "      <th></th>\n",
       "      <th></th>\n",
       "      <th></th>\n",
       "      <th></th>\n",
       "    </tr>\n",
       "  </thead>\n",
       "  <tbody>\n",
       "    <tr>\n",
       "      <th>Candy City | Gummy Worms</th>\n",
       "      <td>1433850</td>\n",
       "      <td>1499400</td>\n",
       "      <td>1497900</td>\n",
       "      <td>1506450</td>\n",
       "      <td>1470150</td>\n",
       "      <td>1490100</td>\n",
       "    </tr>\n",
       "    <tr>\n",
       "      <th>Candy City | Orange Beans</th>\n",
       "      <td>1945026</td>\n",
       "      <td>1997363</td>\n",
       "      <td>1912589</td>\n",
       "      <td>1972886</td>\n",
       "      <td>1982836</td>\n",
       "      <td>2011094</td>\n",
       "    </tr>\n",
       "    <tr>\n",
       "      <th>Exotic Extras | Beef Chicharon</th>\n",
       "      <td>12554835</td>\n",
       "      <td>12991299</td>\n",
       "      <td>12750984</td>\n",
       "      <td>12847110</td>\n",
       "      <td>13026372</td>\n",
       "      <td>12862698</td>\n",
       "    </tr>\n",
       "    <tr>\n",
       "      <th>Exotic Extras | Kimchi and Seaweed</th>\n",
       "      <td>7731124</td>\n",
       "      <td>7949251</td>\n",
       "      <td>7963633</td>\n",
       "      <td>7926879</td>\n",
       "      <td>7808627</td>\n",
       "      <td>8073096</td>\n",
       "    </tr>\n",
       "    <tr>\n",
       "      <th>HealthyKid 3+ | Gummy Vitamins</th>\n",
       "      <td>14521500</td>\n",
       "      <td>14970000</td>\n",
       "      <td>15217500</td>\n",
       "      <td>14763000</td>\n",
       "      <td>14922000</td>\n",
       "      <td>14970000</td>\n",
       "    </tr>\n",
       "    <tr>\n",
       "      <th>HealthyKid 3+ | Nutrional Milk</th>\n",
       "      <td>19356730</td>\n",
       "      <td>19285090</td>\n",
       "      <td>19653240</td>\n",
       "      <td>19474140</td>\n",
       "      <td>19663190</td>\n",
       "      <td>19436330</td>\n",
       "    </tr>\n",
       "    <tr>\n",
       "      <th>HealthyKid 3+ | Yummy Vegetables</th>\n",
       "      <td>4979500</td>\n",
       "      <td>5128000</td>\n",
       "      <td>4948000</td>\n",
       "      <td>4930500</td>\n",
       "      <td>4867500</td>\n",
       "      <td>4861000</td>\n",
       "    </tr>\n",
       "  </tbody>\n",
       "</table>\n",
       "</div>"
      ],
      "text/plain": [
       "                                   Sales Value                                \\\n",
       "Month                                  2022-01   2022-02   2022-03   2022-04   \n",
       "Product                                                                        \n",
       "Candy City | Gummy Worms               1433850   1499400   1497900   1506450   \n",
       "Candy City | Orange Beans              1945026   1997363   1912589   1972886   \n",
       "Exotic Extras | Beef Chicharon        12554835  12991299  12750984  12847110   \n",
       "Exotic Extras | Kimchi and Seaweed     7731124   7949251   7963633   7926879   \n",
       "HealthyKid 3+ | Gummy Vitamins        14521500  14970000  15217500  14763000   \n",
       "HealthyKid 3+ | Nutrional Milk        19356730  19285090  19653240  19474140   \n",
       "HealthyKid 3+ | Yummy Vegetables       4979500   5128000   4948000   4930500   \n",
       "\n",
       "                                                        \n",
       "Month                                2022-05   2022-06  \n",
       "Product                                                 \n",
       "Candy City | Gummy Worms             1470150   1490100  \n",
       "Candy City | Orange Beans            1982836   2011094  \n",
       "Exotic Extras | Beef Chicharon      13026372  12862698  \n",
       "Exotic Extras | Kimchi and Seaweed   7808627   8073096  \n",
       "HealthyKid 3+ | Gummy Vitamins      14922000  14970000  \n",
       "HealthyKid 3+ | Nutrional Milk      19663190  19436330  \n",
       "HealthyKid 3+ | Yummy Vegetables     4867500   4861000  "
      ]
     },
     "execution_count": 12,
     "metadata": {},
     "output_type": "execute_result"
    }
   ],
   "source": [
    "sale_value_per_item_per_month = transaction_list.groupby([\"Month\", \"Product\"])[\"Sales Value\"].sum()\n",
    "sale_value_per_item_per_month = sale_value_per_item_per_month.reset_index()\n",
    "svpipm = sale_value_per_item_per_month.pivot_table(values = [\"Sales Value\"], index = \"Product\", columns = \"Month\")\n",
    "\n",
    "svpipm"
   ]
  },
  {
   "cell_type": "markdown",
   "id": "7a66ba53-2b61-4327-a0c4-bbafde29da11",
   "metadata": {},
   "source": [
    "### **Repeaters/Inactive/Engaged Customer Activity**"
   ]
  },
  {
   "cell_type": "code",
   "execution_count": 13,
   "id": "083b51fe-1a30-4474-aaf2-517092799509",
   "metadata": {},
   "outputs": [
    {
     "data": {
      "text/html": [
       "<div>\n",
       "<style scoped>\n",
       "    .dataframe tbody tr th:only-of-type {\n",
       "        vertical-align: middle;\n",
       "    }\n",
       "\n",
       "    .dataframe tbody tr th {\n",
       "        vertical-align: top;\n",
       "    }\n",
       "\n",
       "    .dataframe thead th {\n",
       "        text-align: right;\n",
       "    }\n",
       "</style>\n",
       "<table border=\"1\" class=\"dataframe\">\n",
       "  <thead>\n",
       "    <tr style=\"text-align: right;\">\n",
       "      <th>Month</th>\n",
       "      <th>2022-01</th>\n",
       "      <th>2022-02</th>\n",
       "      <th>2022-03</th>\n",
       "      <th>2022-04</th>\n",
       "      <th>2022-05</th>\n",
       "      <th>2022-06</th>\n",
       "    </tr>\n",
       "  </thead>\n",
       "  <tbody>\n",
       "    <tr>\n",
       "      <th>Repeaters</th>\n",
       "      <td>0</td>\n",
       "      <td>5275</td>\n",
       "      <td>5331</td>\n",
       "      <td>5296</td>\n",
       "      <td>5237</td>\n",
       "      <td>5320</td>\n",
       "    </tr>\n",
       "    <tr>\n",
       "      <th>Inactive</th>\n",
       "      <td>0</td>\n",
       "      <td>1525</td>\n",
       "      <td>1991</td>\n",
       "      <td>2055</td>\n",
       "      <td>2057</td>\n",
       "      <td>1964</td>\n",
       "    </tr>\n",
       "    <tr>\n",
       "      <th>Engaged</th>\n",
       "      <td>0</td>\n",
       "      <td>5275</td>\n",
       "      <td>4169</td>\n",
       "      <td>3304</td>\n",
       "      <td>2655</td>\n",
       "      <td>2159</td>\n",
       "    </tr>\n",
       "  </tbody>\n",
       "</table>\n",
       "</div>"
      ],
      "text/plain": [
       "Month      2022-01  2022-02  2022-03  2022-04  2022-05  2022-06\n",
       "Repeaters        0     5275     5331     5296     5237     5320\n",
       "Inactive         0     1525     1991     2055     2057     1964\n",
       "Engaged          0     5275     4169     3304     2655     2159"
      ]
     },
     "execution_count": 13,
     "metadata": {},
     "output_type": "execute_result"
    }
   ],
   "source": [
    "#accumulating customer transactions\n",
    "activity_list = pd.crosstab(customer_activity_list[\"Email\"], customer_activity_list[\"Month\"])\n",
    "for month_prev, month_next in zip(activity_list.columns, activity_list.columns[1:]):\n",
    "    activity_list[month_next] = (activity_list[month_next] + activity_list[month_prev]) * activity_list[month_next]\n",
    "\n",
    "#repeaters customer transactions\n",
    "repeaters_activity_list = activity_list.copy()\n",
    "for month_prev, month_next in zip(repeaters_activity_list.columns, repeaters_activity_list.columns[1:]):\n",
    "    repeaters_activity_list[month_next] = repeaters_activity_list[month_next] > 1\n",
    "repeaters_activity_list = repeaters_activity_list.sum()\n",
    "\n",
    "#inactive customer transactions\n",
    "inactive_activity_list = activity_list.copy()\n",
    "inactive_activity_list = inactive_activity_list.replace(0,-len(inactive_activity_list.columns))\n",
    "for month_prev, month_next in zip(inactive_activity_list.columns, inactive_activity_list.columns[1:]):\n",
    "    inactive_activity_list[month_next] = inactive_activity_list[month_prev] > inactive_activity_list[month_next]\n",
    "inactive_activity_list = inactive_activity_list.sum()\n",
    "\n",
    "#engaged customer transactions\n",
    "engaged_activity_list = pd.melt(activity_list)\\\n",
    "    .groupby('Month')['value']\\\n",
    "    .value_counts()\\\n",
    "    .unstack(level=0)\\\n",
    "    .fillna(0)\\\n",
    "    .drop(0)\\\n",
    "    .astype(int)\n",
    "engaged_activity_list = pd.Series(np.diag(engaged_activity_list), engaged_activity_list.columns)\n",
    "\n",
    "#final categorized customer transactions\n",
    "repeaters_inactive_engaged = pd.DataFrame({'Repeaters': repeaters_activity_list,\n",
    "                                           'Inactive': inactive_activity_list,\n",
    "                                           'Engaged': engaged_activity_list})\n",
    "repeaters_inactive_engaged.iloc[0] = 0\n",
    "repeaters_inactive_engaged_proper = repeaters_inactive_engaged.T\n",
    "repeaters_inactive_engaged_proper"
   ]
  },
  {
   "cell_type": "markdown",
   "id": "ea62b59a-c1fa-4013-a270-05564d41ad64",
   "metadata": {},
   "source": [
    "### **Amount of Products Sold Per Month**"
   ]
  },
  {
   "cell_type": "code",
   "execution_count": 14,
   "id": "717ff57b-3d6e-4fb2-8084-3994fb4dfd29",
   "metadata": {},
   "outputs": [
    {
     "data": {
      "image/png": "[encoded data removed]",
      "text/plain": [
       "<Figure size 432x288 with 1 Axes>"
      ]
     },
     "metadata": {
      "needs_background": "light"
     },
     "output_type": "display_data"
    }
   ],
   "source": [
    "items_sold_per_month = transaction_list.groupby([\"Month\"])[\"Quantity\"].sum()\n",
    "items_sold_per_month_graph = items_sold_per_month.plot(kind=\"line\", marker = '.')\n",
    "plt.show()"
   ]
  },
  {
   "cell_type": "markdown",
   "id": "4ff0802c-6ace-488a-aa75-69363180fdb1",
   "metadata": {},
   "source": [
    "### **Amount of Products Sold Per Item**"
   ]
  },
  {
   "cell_type": "code",
   "execution_count": 15,
   "id": "034d13b8-de85-46b3-a412-146fd79ea94f",
   "metadata": {},
   "outputs": [
    {
     "data": {
      "image/png": "[encoded data removed]",
      "text/plain": [
       "<Figure size 432x288 with 1 Axes>"
      ]
     },
     "metadata": {
      "needs_background": "light"
     },
     "output_type": "display_data"
    }
   ],
   "source": [
    "nispm_graph = nispm.plot(kind=\"line\", marker = '.')\n",
    "nispm_graph = plt.xticks(rotation=90)\n",
    "plt.show()"
   ]
  },
  {
   "cell_type": "markdown",
   "id": "3e5cda09-f2cc-4375-b678-3cbcf7a7804e",
   "metadata": {},
   "source": [
    "### **Sales Per Month**"
   ]
  },
  {
   "cell_type": "code",
   "execution_count": 16,
   "id": "ef192624-6cd2-4b11-bb89-1b51eccb4c65",
   "metadata": {},
   "outputs": [
    {
     "data": {
      "image/png": "[encoded data removed]",
      "text/plain": [
       "<Figure size 432x288 with 1 Axes>"
      ]
     },
     "metadata": {
      "needs_background": "light"
     },
     "output_type": "display_data"
    }
   ],
   "source": [
    "sales_per_month = transaction_list.groupby([\"Month\"])[\"Sales Value\"].sum()\n",
    "sales_per_month_graph = sales_per_month.plot(kind='line', marker = '.')\n",
    "plt.show()"
   ]
  },
  {
   "cell_type": "markdown",
   "id": "e94c21f9-bb70-41b8-99df-5967897d6aed",
   "metadata": {},
   "source": [
    "### **Sales Per Item**"
   ]
  },
  {
   "cell_type": "code",
   "execution_count": 17,
   "id": "c2851655-aba7-4fc1-886a-daa49ca015d1",
   "metadata": {},
   "outputs": [
    {
     "data": {
      "image/png": "[encoded data removed]",
      "text/plain": [
       "<Figure size 432x288 with 1 Axes>"
      ]
     },
     "metadata": {
      "needs_background": "light"
     },
     "output_type": "display_data"
    }
   ],
   "source": [
    "tspm_graph = tspm.plot(kind=\"line\", marker = '.')\n",
    "nispm_graph = plt.xticks(rotation=90)\n",
    "plt.show()"
   ]
  },
  {
   "cell_type": "markdown",
   "id": "30a6b4b5-d486-41c8-adbe-ef2be34ed2cc",
   "metadata": {},
   "source": [
    "### **Number of Transactions Per Month**"
   ]
  },
  {
   "cell_type": "code",
   "execution_count": 18,
   "id": "86037f7b-ca1b-430a-b6aa-d4197ea4ea1a",
   "metadata": {},
   "outputs": [
    {
     "data": {
      "image/png": "[encoded data removed]",
      "text/plain": [
       "<Figure size 432x288 with 1 Axes>"
      ]
     },
     "metadata": {
      "needs_background": "light"
     },
     "output_type": "display_data"
    }
   ],
   "source": [
    "number_of_monthly_transactions = customer_activity_list.groupby([\"Month\"])[\"Email\"].count()\n",
    "number_of_monthly_transactions_graph = number_of_monthly_transactions.plot(kind='line',marker = '.')\n",
    "plt.show()"
   ]
  },
  {
   "cell_type": "markdown",
   "id": "9fef0108-06d2-4fd1-8aab-3ad73365d8fa",
   "metadata": {},
   "source": [
    "### **Customer Activity Graph**"
   ]
  },
  {
   "cell_type": "code",
   "execution_count": 19,
   "id": "72a2f23e-12ae-4856-8ada-cf9466604525",
   "metadata": {},
   "outputs": [
    {
     "data": {
      "image/png": "[encoded data removed]",
      "text/plain": [
       "<Figure size 432x288 with 1 Axes>"
      ]
     },
     "metadata": {
      "needs_background": "light"
     },
     "output_type": "display_data"
    }
   ],
   "source": [
    "rie_customer_activity_graph = repeaters_inactive_engaged.plot(kind='line',marker = '.')\n",
    "plt.show()"
   ]
  },
  {
   "cell_type": "markdown",
   "id": "c90c85c9-591a-423e-88bb-6acc81ccff5b",
   "metadata": {},
   "source": [
    "### **Total Number of Male and Female Customers**"
   ]
  },
  {
   "cell_type": "code",
   "execution_count": 20,
   "id": "b614ac58-65a3-4ca4-a8c3-61206916d426",
   "metadata": {},
   "outputs": [
    {
     "data": {
      "image/png": "[encoded data removed]",
      "text/plain": [
       "<Figure size 432x288 with 1 Axes>"
      ]
     },
     "metadata": {
      "needs_background": "light"
     },
     "output_type": "display_data"
    }
   ],
   "source": [
    "customer_list_gender = customer_list.groupby('Gender')['Name'].count()\n",
    "customer_list_gender_graph = customer_list_gender.plot(kind=\"bar\", color=[\"red\",\"blue\"])\n",
    "customer_list_gender_graph = customer_list_gender_graph.bar_label(customer_list_gender_graph.containers[0])\n",
    "customer_list_age_graph = plt.xticks(rotation=0)"
   ]
  },
  {
   "cell_type": "markdown",
   "id": "7fdfcba2-70aa-4263-b443-b9aa792a0fa1",
   "metadata": {},
   "source": [
    "### **Number of Customers Within Each Age Group**"
   ]
  },
  {
   "cell_type": "code",
   "execution_count": 21,
   "id": "3707e83c-3c12-406d-bf1f-04316e969efd",
   "metadata": {},
   "outputs": [
    {
     "data": {
      "image/png": "[encoded data removed]",
      "text/plain": [
       "<Figure size 432x288 with 1 Axes>"
      ]
     },
     "metadata": {
      "needs_background": "light"
     },
     "output_type": "display_data"
    }
   ],
   "source": [
    "now = pd.Timestamp('now')\n",
    "customer_list['Birthdate'] = pd.to_datetime(customer_list['Birthdate'], format='%m%d%y')\n",
    "customer_list['Birthdate'] = customer_list['Birthdate'].where(customer_list['Birthdate'] < now, customer_list['Birthdate'] -  np.timedelta64(100, 'Y'))\n",
    "customer_list['Age'] = (now - customer_list['Birthdate']).astype('timedelta64[Y]')\n",
    "customer_list['Age'] = customer_list['Age'].astype(int)\n",
    "customer_list[\"Age Group\"] = pd.cut(customer_list.Age,bins=[-1,2,12,17,65,customer_list[\"Age\"].max()+1],labels=[\"Toddler\",\"Child\",\"Teenager\",\"Adult\",\"Elderly\"])\n",
    "\n",
    "customer_list_age = customer_list.groupby('Age Group')['Name'].count()\n",
    "customer_list_age_graph = customer_list_age.plot(kind=\"bar\")\n",
    "customer_list_age_graph = customer_list_age_graph.bar_label(customer_list_age_graph.containers[0])\n",
    "customer_list_age_graph = plt.xticks(rotation=0)"
   ]
  },
  {
   "cell_type": "code",
   "execution_count": null,
   "id": "e5941a57-3e1e-46d7-be61-5a074e4af4ab",
   "metadata": {},
   "outputs": [],
   "source": []
  }
 ],
 "metadata": {
  "kernelspec": {
   "display_name": "Python 3 (ipykernel)",
   "language": "python",
   "name": "python3"
  },
  "language_info": {
   "codemirror_mode": {
    "name": "ipython",
    "version": 3
   },
   "file_extension": ".py",
   "mimetype": "text/x-python",
   "name": "python",
   "nbconvert_exporter": "python",
   "pygments_lexer": "ipython3",
   "version": "3.9.12"
  }
 },
 "nbformat": 4,
 "nbformat_minor": 5
}
